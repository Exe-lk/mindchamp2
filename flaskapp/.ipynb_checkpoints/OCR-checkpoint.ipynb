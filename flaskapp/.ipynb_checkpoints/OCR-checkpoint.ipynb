{
 "cells": [
  {
   "cell_type": "code",
   "execution_count": null,
   "id": "2d94b52b",
   "metadata": {},
   "outputs": [],
   "source": [
    "import io\n",
    "import base64\n",
    "import numpy as np\n",
    "from PIL import Image\n",
    "from flask import Flask, jsonify, request\n",
    "import easyocr\n",
    "from flask_cors import CORS\n"
   ]
  },
  {
   "cell_type": "code",
   "execution_count": null,
   "id": "a89b8b65",
   "metadata": {},
   "outputs": [],
   "source": [
    "# initialize the Flask application\n",
    "app = Flask(__name__)\n",
    "\n",
    "# enable CORS for all origins and each request method\n",
    "CORS(app)\n",
    "\n",
    "# load the EasyOCR model\n",
    "reader = easyocr.Reader(['en'])\n",
    "\n",
    "@app.route('/predict', methods=['POST'])\n",
    "def predict():\n",
    "    # get the image data from the request\n",
    "    data = request.json['image']\n",
    "\n",
    "    # decode the base64-encoded image data\n",
    "    base64_string = data.split(',')[1]\n",
    "    base64_string = base64_string.replace(\" \", \"+\")\n",
    "    image_bytes = base64.b64decode(base64_string)\n",
    "\n",
    "    # convert the image data to a PIL Image object\n",
    "    image = Image.open(io.BytesIO(image_bytes))\n",
    "\n",
    "    # convert the PIL Image to a NumPy array\n",
    "    image_array = np.array(image)\n",
    "\n",
    "    # perform OCR on the image\n",
    "    results = reader.readtext(image_array)\n",
    "\n",
    "    # format the results as a JSON response\n",
    "    output = [{'text': result[1], 'confidence': result[2]} for result in results]\n",
    "    response = {'result': output}\n",
    "\n",
    "    # return the JSON response\n",
    "    return jsonify(response)"
   ]
  },
  {
   "cell_type": "code",
   "execution_count": null,
   "id": "7933f596",
   "metadata": {},
   "outputs": [],
   "source": [
    "if __name__ == '__main__':\n",
    "    # start the Flask app\n",
    "    app.run(host='0.0.0.0', port=5000)"
   ]
  }
 ],
 "metadata": {
  "kernelspec": {
   "display_name": "Python 3 (ipykernel)",
   "language": "python",
   "name": "python3"
  },
  "language_info": {
   "codemirror_mode": {
    "name": "ipython",
    "version": 3
   },
   "file_extension": ".py",
   "mimetype": "text/x-python",
   "name": "python",
   "nbconvert_exporter": "python",
   "pygments_lexer": "ipython3",
   "version": "3.9.16"
  }
 },
 "nbformat": 4,
 "nbformat_minor": 5
}
